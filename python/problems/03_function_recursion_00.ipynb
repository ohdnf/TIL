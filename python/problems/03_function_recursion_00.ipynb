{
 "cells": [
  {
   "cell_type": "markdown",
   "metadata": {},
   "source": [
    "# 하노이의 탑\n",
    "\n",
    "> 다음은 하노이의 탑입니다. \n",
    ">\n",
    "> 하노이의 탑을 풀이하는 해법(한쪽 탑의 원판을 다른 탑으로 모두 옮기는 법)을 출력하는 함수를 작성하세요.\n",
    "> \n",
    "> 참고링크 : https://ko.khanacademy.org/computing/computer-science/algorithms/towers-of-hanoi/a/towers-of-hanoi\n",
    "\n",
    "<br>\n",
    "<br>\n",
    "<center>\n",
    "        <img src=\"https://user-images.githubusercontent.com/18046097/61181749-2ab62a80-a665-11e9-83fb-3894f9938730.jpeg\", alt=\"hanoi\">\n",
    "    <img src=\"https://user-images.githubusercontent.com/18046097/61181748-2ab62a80-a665-11e9-9c41-4a7b495d4d39.gif\", alt=\"hanoi gif\">\n",
    "</center>\n",
    "\n",
    "1. 한 번에 한개의 층만을 다른 기둥으로 옮길 수 있다.\n",
    "2. 옮기려는 기둥에는 아무것도 없거나 옮기려는 층보다 큰 층이 있을 경우에만 옮길 수 있다.\n",
    "3. 옮기려는 기둥에 옮기려는 층보다 작은 층이 이미 있을 경우 그 기둥으로 옮길 수 없다.\n",
    "4. 가능한 적은 회수로 전체 탑을 다른 기둥으로 옮긴다."
   ]
  },
  {
   "cell_type": "code",
   "execution_count": null,
   "metadata": {},
   "outputs": [],
   "source": [
    "# 아래에 코드를 작성하세요."
   ]
  },
  {
   "cell_type": "code",
   "execution_count": 1,
   "metadata": {},
   "outputs": [],
   "source": [
    "def hanoi(n):\n",
    "    return hanoi(n-1) * 2 + 1 if n > 1 else n"
   ]
  },
  {
   "cell_type": "code",
   "execution_count": 2,
   "metadata": {},
   "outputs": [
    {
     "name": "stdout",
     "output_type": "stream",
     "text": [
      "1\n",
      "3\n",
      "7\n",
      "15\n",
      "31\n",
      "63\n",
      "127\n",
      "255\n",
      "511\n",
      "1023\n"
     ]
    }
   ],
   "source": [
    "for i in range(1, 11):\n",
    "    print(hanoi(i))"
   ]
  },
  {
   "cell_type": "code",
   "execution_count": 2,
   "metadata": {},
   "outputs": [
    {
     "name": "stdout",
     "output_type": "stream",
     "text": [
      "1번째 원판을 A에서 B로\n",
      "2번째 원판을 A에서 C로\n",
      "1번째 원판을 B에서 C로\n",
      "\n",
      "1번째 원판을 A에서 C로\n",
      "2번째 원판을 A에서 B로\n",
      "1번째 원판을 C에서 B로\n",
      "3번째 원판을 A에서 C로\n",
      "1번째 원판을 B에서 A로\n",
      "2번째 원판을 B에서 C로\n",
      "1번째 원판을 A에서 C로\n",
      "4번째 원판을 A에서 B로\n",
      "1번째 원판을 C에서 B로\n",
      "2번째 원판을 C에서 A로\n",
      "1번째 원판을 B에서 A로\n",
      "3번째 원판을 C에서 B로\n",
      "1번째 원판을 A에서 C로\n",
      "2번째 원판을 A에서 B로\n",
      "1번째 원판을 C에서 B로\n",
      "5번째 원판을 A에서 C로\n",
      "1번째 원판을 B에서 A로\n",
      "2번째 원판을 B에서 C로\n",
      "1번째 원판을 A에서 C로\n",
      "3번째 원판을 B에서 A로\n",
      "1번째 원판을 C에서 B로\n",
      "2번째 원판을 C에서 A로\n",
      "1번째 원판을 B에서 A로\n",
      "4번째 원판을 B에서 C로\n",
      "1번째 원판을 A에서 C로\n",
      "2번째 원판을 A에서 B로\n",
      "1번째 원판을 C에서 B로\n",
      "3번째 원판을 A에서 C로\n",
      "1번째 원판을 B에서 A로\n",
      "2번째 원판을 B에서 C로\n",
      "1번째 원판을 A에서 C로\n"
     ]
    }
   ],
   "source": [
    "def hanoi(n, start, temp, end):\n",
    "    if n:\n",
    "        hanoi(n - 1, start, end, temp)\n",
    "        print(f'{n}번째 원판을 {start}에서 {end}로')\n",
    "        hanoi(n - 1, temp, start, end)\n",
    "\n",
    "hanoi(2, 'A', 'B', 'C')\n",
    "print()\n",
    "hanoi(5, 'A', 'B', 'C')"
   ]
  }
 ],
 "metadata": {
  "kernelspec": {
   "display_name": "Python 3",
   "language": "python",
   "name": "python3"
  },
  "language_info": {
   "codemirror_mode": {
    "name": "ipython",
    "version": 3
   },
   "file_extension": ".py",
   "mimetype": "text/x-python",
   "name": "python",
   "nbconvert_exporter": "python",
   "pygments_lexer": "ipython3",
   "version": "3.7.3"
  },
  "toc": {
   "base_numbering": 1,
   "nav_menu": {},
   "number_sections": true,
   "sideBar": true,
   "skip_h1_title": false,
   "title_cell": "Table of Contents",
   "title_sidebar": "Contents",
   "toc_cell": false,
   "toc_position": {},
   "toc_section_display": true,
   "toc_window_display": false
  }
 },
 "nbformat": 4,
 "nbformat_minor": 2
}
